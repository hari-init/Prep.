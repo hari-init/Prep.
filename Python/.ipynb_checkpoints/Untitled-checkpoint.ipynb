{
 "cells": [
  {
   "cell_type": "code",
   "execution_count": 4,
   "id": "a334c4bf-72e2-465d-b240-481373f1123e",
   "metadata": {},
   "outputs": [
    {
     "name": "stdout",
     "output_type": "stream",
     "text": [
      "Writing myfile.txt\n"
     ]
    }
   ],
   "source": [
    "%%writefile myfile.txt\n",
    "This is first line\n",
    "This is second line"
   ]
  },
  {
   "cell_type": "code",
   "execution_count": 10,
   "id": "d8925e98-954d-4c79-8408-ed78d844860e",
   "metadata": {},
   "outputs": [],
   "source": [
    "myfile = open('myfile.txt')"
   ]
  },
  {
   "cell_type": "code",
   "execution_count": 18,
   "id": "1c14276f-504e-413c-8b91-640c167826c4",
   "metadata": {},
   "outputs": [
    {
     "name": "stdout",
     "output_type": "stream",
     "text": [
      "Let's Fuck\n"
     ]
    }
   ],
   "source": [
    "hungry = False\n",
    "if hungry:\n",
    "    print(\"Let's have dinner\")\n",
    "else:\n",
    "    print(\"Let's Fuck\")"
   ]
  },
  {
   "cell_type": "code",
   "execution_count": 22,
   "id": "b8b436bf-2a63-43a7-9640-d036268abfe7",
   "metadata": {},
   "outputs": [
    {
     "name": "stdout",
     "output_type": "stream",
     "text": [
      "Harrrrrderrrrr....\n"
     ]
    }
   ],
   "source": [
    "position = 'missionary'\n",
    "\n",
    "if position == 'on top':\n",
    "    print('Grind more')\n",
    "elif position == 'spoon':\n",
    "    print('Harder gabe...')\n",
    "elif position == 'missionary':\n",
    "    print('Harrrrrderrrrr....')\n",
    "else:\n",
    "    print('go down')"
   ]
  },
  {
   "cell_type": "code",
   "execution_count": 24,
   "id": "430e96e4-ea6e-4681-97fe-67cadcdb1ea0",
   "metadata": {},
   "outputs": [],
   "source": [
    "my_list = [1,2,3,4,5,6,7,8,9,10\n",
    "          ]"
   ]
  },
  {
   "cell_type": "code",
   "execution_count": 26,
   "id": "753975cc-29ac-4ddc-8730-1ba9ae95b99b",
   "metadata": {},
   "outputs": [
    {
     "data": {
      "text/plain": [
       "[1, 2, 3, 4, 5, 6, 7, 8, 9, 10]"
      ]
     },
     "execution_count": 26,
     "metadata": {},
     "output_type": "execute_result"
    }
   ],
   "source": [
    "my_list\n"
   ]
  },
  {
   "cell_type": "code",
   "execution_count": 28,
   "id": "7cfd2cf5-7237-494b-8315-74fc430b938c",
   "metadata": {},
   "outputs": [
    {
     "name": "stdout",
     "output_type": "stream",
     "text": [
      "1\n",
      "2\n",
      "3\n",
      "4\n",
      "5\n",
      "6\n",
      "7\n",
      "8\n",
      "9\n",
      "10\n"
     ]
    }
   ],
   "source": [
    "for my_item in my_list:\n",
    "    print(my_item)"
   ]
  },
  {
   "cell_type": "code",
   "execution_count": 32,
   "id": "7ffc04fd-ed82-4ea4-9d4f-804e69ed9051",
   "metadata": {},
   "outputs": [
    {
     "name": "stdout",
     "output_type": "stream",
     "text": [
      "this is Odd number 1\n",
      "2\n",
      "this is Odd number 3\n",
      "4\n",
      "this is Odd number 5\n",
      "6\n",
      "this is Odd number 7\n",
      "8\n",
      "this is Odd number 9\n",
      "10\n"
     ]
    }
   ],
   "source": [
    "for my_item in my_list:\n",
    "    if my_item % 2 == 0:\n",
    "        print(my_item)\n",
    "    else:\n",
    "        print(f'this is Odd number {my_item}')"
   ]
  },
  {
   "cell_type": "code",
   "execution_count": 34,
   "id": "9383a3a0-a91c-4258-b5a0-f6edc02d6c3c",
   "metadata": {},
   "outputs": [
    {
     "name": "stdout",
     "output_type": "stream",
     "text": [
      "55\n"
     ]
    }
   ],
   "source": [
    "item = 0\n",
    "for num in my_list:\n",
    "    item += num\n",
    "print(item)"
   ]
  },
  {
   "cell_type": "code",
   "execution_count": 36,
   "id": "aa75e258-b0f0-4e8c-95f0-539d853c7104",
   "metadata": {},
   "outputs": [],
   "source": [
    "my_list = [(1,2),(3,4),(5,6),(7,8),(9,10)]"
   ]
  },
  {
   "cell_type": "code",
   "execution_count": 44,
   "id": "735c7729-e686-4200-bab7-26201ca0a752",
   "metadata": {},
   "outputs": [
    {
     "name": "stdout",
     "output_type": "stream",
     "text": [
      "1\n",
      "2\n",
      "3\n",
      "4\n",
      "5\n",
      "6\n",
      "7\n",
      "8\n",
      "9\n",
      "10\n"
     ]
    }
   ],
   "source": [
    "for a,b in my_list:\n",
    "    print(a)\n",
    "    print(b)"
   ]
  },
  {
   "cell_type": "code",
   "execution_count": 46,
   "id": "cdea1e8b-f275-48d1-947d-19c7bcad6c72",
   "metadata": {},
   "outputs": [],
   "source": [
    "my_string = 'i am small fucker'"
   ]
  },
  {
   "cell_type": "code",
   "execution_count": null,
   "id": "37d783b4-fb98-4cf2-a5be-dc81df4e1b2b",
   "metadata": {},
   "outputs": [],
   "source": [
    "for st in my_string:\n",
    "    print(st)"
   ]
  }
 ],
 "metadata": {
  "kernelspec": {
   "display_name": "Python [conda env:base] *",
   "language": "python",
   "name": "conda-base-py"
  },
  "language_info": {
   "codemirror_mode": {
    "name": "ipython",
    "version": 3
   },
   "file_extension": ".py",
   "mimetype": "text/x-python",
   "name": "python",
   "nbconvert_exporter": "python",
   "pygments_lexer": "ipython3",
   "version": "3.12.7"
  }
 },
 "nbformat": 4,
 "nbformat_minor": 5
}
