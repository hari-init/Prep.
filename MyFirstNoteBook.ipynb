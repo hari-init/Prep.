{
 "cells": [
  {
   "cell_type": "code",
   "execution_count": 1,
   "id": "48f54de1-91b7-43f5-a8bd-e10c6d56d800",
   "metadata": {
    "panel-layout": {
     "height": 0,
     "visible": true,
     "width": 100
    }
   },
   "outputs": [
    {
     "name": "stdout",
     "output_type": "stream",
     "text": [
      "hello\n"
     ]
    }
   ],
   "source": [
    "print('hello')"
   ]
  },
  {
   "cell_type": "code",
   "execution_count": 3,
   "id": "87fc2184-b225-4c65-9301-a771ed0f5502",
   "metadata": {
    "panel-layout": {
     "height": 0,
     "visible": true,
     "width": 100
    }
   },
   "outputs": [
    {
     "name": "stdout",
     "output_type": "stream",
     "text": [
      "new\n"
     ]
    }
   ],
   "source": [
    "print('new')"
   ]
  },
  {
   "cell_type": "markdown",
   "id": "48881221-75bb-403a-aaaf-20c69310e893",
   "metadata": {
    "panel-layout": {
     "height": 51.140625,
     "visible": true,
     "width": 100
    }
   },
   "source": [
    "print() - > this is markdown"
   ]
  },
  {
   "cell_type": "code",
   "execution_count": 6,
   "id": "8c2adc5c-cde6-45a1-b03a-674e4f16ec41",
   "metadata": {
    "panel-layout": {
     "height": 0,
     "visible": true,
     "width": 100
    }
   },
   "outputs": [
    {
     "name": "stdout",
     "output_type": "stream",
     "text": [
      "fuck\n"
     ]
    }
   ],
   "source": [
    "print('fuck')"
   ]
  },
  {
   "cell_type": "code",
   "execution_count": 3,
   "id": "06799981-e5dd-49d9-8b76-268bbbe98114",
   "metadata": {},
   "outputs": [],
   "source": [
    "x = \"Hello World\"\n"
   ]
  },
  {
   "cell_type": "code",
   "execution_count": 5,
   "id": "4f0a11c9-e254-4f8f-82ac-1e47eb82bf2e",
   "metadata": {},
   "outputs": [
    {
     "data": {
      "text/plain": [
       "'Hello World'"
      ]
     },
     "execution_count": 5,
     "metadata": {},
     "output_type": "execute_result"
    }
   ],
   "source": [
    "x"
   ]
  },
  {
   "cell_type": "code",
   "execution_count": 11,
   "id": "be3cb81d-e2db-4b00-8b09-de40286e4deb",
   "metadata": {},
   "outputs": [
    {
     "data": {
      "text/plain": [
       "'HELLO WORLD'"
      ]
     },
     "execution_count": 11,
     "metadata": {},
     "output_type": "execute_result"
    }
   ],
   "source": [
    "x.upper()"
   ]
  },
  {
   "cell_type": "code",
   "execution_count": 15,
   "id": "487e1f45-0b51-4c2d-872a-27a1e6446658",
   "metadata": {},
   "outputs": [
    {
     "data": {
      "text/plain": [
       "['Hell', ' W', 'rld']"
      ]
     },
     "execution_count": 15,
     "metadata": {},
     "output_type": "execute_result"
    }
   ],
   "source": [
    "x.split('o')"
   ]
  },
  {
   "cell_type": "code",
   "execution_count": 17,
   "id": "58dabc77-2af4-422c-b8c2-fe261835f25d",
   "metadata": {},
   "outputs": [
    {
     "data": {
      "text/plain": [
       "'Hello World'"
      ]
     },
     "execution_count": 17,
     "metadata": {},
     "output_type": "execute_result"
    }
   ],
   "source": [
    "x"
   ]
  },
  {
   "cell_type": "code",
   "execution_count": 23,
   "id": "dd486ae1-f563-479d-af33-fc03b402ad46",
   "metadata": {},
   "outputs": [
    {
     "data": {
      "text/plain": [
       "'hi hari'"
      ]
     },
     "execution_count": 23,
     "metadata": {},
     "output_type": "execute_result"
    }
   ],
   "source": [
    "\"hi {h}\".format(h=\"hari\")"
   ]
  },
  {
   "cell_type": "code",
   "execution_count": 31,
   "id": "4de17ecc-2aa3-4a2f-ae7f-2f462b3ae161",
   "metadata": {},
   "outputs": [
    {
     "data": {
      "text/plain": [
       "'Hello World'"
      ]
     },
     "execution_count": 31,
     "metadata": {},
     "output_type": "execute_result"
    }
   ],
   "source": [
    "x.center(3)\n"
   ]
  },
  {
   "cell_type": "code",
   "execution_count": 33,
   "id": "cfed32df-4c5a-41de-866a-95634a00a4df",
   "metadata": {},
   "outputs": [],
   "source": [
    "my_list = ['one','two','three']\n"
   ]
  },
  {
   "cell_type": "code",
   "execution_count": 35,
   "id": "369dfdee-1272-41c8-ab12-60fd2466835e",
   "metadata": {},
   "outputs": [],
   "source": [
    "my_list.append('four')"
   ]
  },
  {
   "cell_type": "code",
   "execution_count": 37,
   "id": "e33d46c3-65de-4e92-a094-e9054fbbc643",
   "metadata": {},
   "outputs": [
    {
     "data": {
      "text/plain": [
       "['one', 'two', 'three', 'four']"
      ]
     },
     "execution_count": 37,
     "metadata": {},
     "output_type": "execute_result"
    }
   ],
   "source": [
    "my_list\n"
   ]
  },
  {
   "cell_type": "code",
   "execution_count": 7,
   "id": "3eecd5af-9ffb-4e84-9b1e-6b8115a5730a",
   "metadata": {},
   "outputs": [
    {
     "data": {
      "text/plain": [
       "'i am Mother fucker hell yaaayaa'"
      ]
     },
     "execution_count": 7,
     "metadata": {},
     "output_type": "execute_result"
    }
   ],
   "source": [
    "def first_call(word = \"grany\"):\n",
    "    return f'i am {word} fucker hell yaaayaa'\n",
    "\n",
    "first_call('Mother')\n"
   ]
  },
  {
   "cell_type": "code",
   "execution_count": 9,
   "id": "3eac7fe2-895e-4b5f-96d4-8c2d8a1e368f",
   "metadata": {},
   "outputs": [
    {
     "data": {
      "text/plain": [
       "'i am grany fucker hell yaaayaa'"
      ]
     },
     "execution_count": 9,
     "metadata": {},
     "output_type": "execute_result"
    }
   ],
   "source": [
    "first_call()"
   ]
  },
  {
   "cell_type": "code",
   "execution_count": 21,
   "id": "a15ae939-1425-45de-8be8-de5f8b861f79",
   "metadata": {},
   "outputs": [],
   "source": [
    "def check_even_list(num_list):\n",
    "    even_list = [];\n",
    "    for num in num_list:\n",
    "        if num % 2 == 0:\n",
    "            even_list.append(num)\n",
    "        else:\n",
    "            pass\n",
    "    return even_list"
   ]
  },
  {
   "cell_type": "code",
   "execution_count": 25,
   "id": "1a7de295-d448-458f-b64b-138d1a68da02",
   "metadata": {},
   "outputs": [
    {
     "data": {
      "text/plain": [
       "[2, 6, 8]"
      ]
     },
     "execution_count": 25,
     "metadata": {},
     "output_type": "execute_result"
    }
   ],
   "source": [
    "check_even_list([1,2,5,6,7,8])"
   ]
  },
  {
   "cell_type": "code",
   "execution_count": null,
   "id": "8c25b399-fd45-46ad-9e70-5405b4a02dd3",
   "metadata": {},
   "outputs": [],
   "source": []
  }
 ],
 "metadata": {
  "kernelspec": {
   "display_name": "Python [conda env:base] *",
   "language": "python",
   "name": "conda-base-py"
  },
  "language_info": {
   "codemirror_mode": {
    "name": "ipython",
    "version": 3
   },
   "file_extension": ".py",
   "mimetype": "text/x-python",
   "name": "python",
   "nbconvert_exporter": "python",
   "pygments_lexer": "ipython3",
   "version": "3.12.7"
  },
  "panel-cell-order": [
   "48f54de1-91b7-43f5-a8bd-e10c6d56d800",
   "87fc2184-b225-4c65-9301-a771ed0f5502",
   "48881221-75bb-403a-aaaf-20c69310e893",
   "8c2adc5c-cde6-45a1-b03a-674e4f16ec41"
  ]
 },
 "nbformat": 4,
 "nbformat_minor": 5
}
