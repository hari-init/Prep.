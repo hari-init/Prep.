{
 "cells": [
  {
   "cell_type": "code",
   "execution_count": 1,
   "id": "48f54de1-91b7-43f5-a8bd-e10c6d56d800",
   "metadata": {
    "panel-layout": {
     "height": 0,
     "visible": true,
     "width": 100
    }
   },
   "outputs": [
    {
     "name": "stdout",
     "output_type": "stream",
     "text": [
      "hello\n"
     ]
    }
   ],
   "source": [
    "print('hello')"
   ]
  },
  {
   "cell_type": "code",
   "execution_count": 3,
   "id": "87fc2184-b225-4c65-9301-a771ed0f5502",
   "metadata": {
    "panel-layout": {
     "height": 0,
     "visible": true,
     "width": 100
    }
   },
   "outputs": [
    {
     "name": "stdout",
     "output_type": "stream",
     "text": [
      "new\n"
     ]
    }
   ],
   "source": [
    "print('new')"
   ]
  },
  {
   "cell_type": "markdown",
   "id": "48881221-75bb-403a-aaaf-20c69310e893",
   "metadata": {
    "panel-layout": {
     "height": 51.140625,
     "visible": true,
     "width": 100
    }
   },
   "source": [
    "print() - > this is markdown"
   ]
  },
  {
   "cell_type": "code",
   "execution_count": 6,
   "id": "8c2adc5c-cde6-45a1-b03a-674e4f16ec41",
   "metadata": {
    "panel-layout": {
     "height": 0,
     "visible": true,
     "width": 100
    }
   },
   "outputs": [
    {
     "name": "stdout",
     "output_type": "stream",
     "text": [
      "fuck\n"
     ]
    }
   ],
   "source": [
    "print('fuck')"
   ]
  },
  {
   "cell_type": "code",
   "execution_count": 11,
   "id": "06799981-e5dd-49d9-8b76-268bbbe98114",
   "metadata": {},
   "outputs": [],
   "source": [
    "x = \"Hello World\"\n"
   ]
  },
  {
   "cell_type": "code",
   "execution_count": null,
   "id": "fadf6ebe-34f4-4a2d-83bb-d7b0d24d14b6",
   "metadata": {},
   "outputs": [],
   "source": [
    "x."
   ]
  }
 ],
 "metadata": {
  "kernelspec": {
   "display_name": "Python [conda env:base] *",
   "language": "python",
   "name": "conda-base-py"
  },
  "language_info": {
   "codemirror_mode": {
    "name": "ipython",
    "version": 3
   },
   "file_extension": ".py",
   "mimetype": "text/x-python",
   "name": "python",
   "nbconvert_exporter": "python",
   "pygments_lexer": "ipython3",
   "version": "3.12.7"
  },
  "panel-cell-order": [
   "48f54de1-91b7-43f5-a8bd-e10c6d56d800",
   "87fc2184-b225-4c65-9301-a771ed0f5502",
   "48881221-75bb-403a-aaaf-20c69310e893",
   "8c2adc5c-cde6-45a1-b03a-674e4f16ec41"
  ]
 },
 "nbformat": 4,
 "nbformat_minor": 5
}
