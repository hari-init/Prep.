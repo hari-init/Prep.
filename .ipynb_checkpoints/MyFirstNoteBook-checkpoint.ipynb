{
 "cells": [
  {
   "cell_type": "code",
   "execution_count": 1,
   "id": "48f54de1-91b7-43f5-a8bd-e10c6d56d800",
   "metadata": {
    "panel-layout": {
     "height": 0,
     "visible": true,
     "width": 100
    }
   },
   "outputs": [
    {
     "name": "stdout",
     "output_type": "stream",
     "text": [
      "hello\n"
     ]
    }
   ],
   "source": [
    "print('hello')"
   ]
  },
  {
   "cell_type": "code",
   "execution_count": 3,
   "id": "87fc2184-b225-4c65-9301-a771ed0f5502",
   "metadata": {
    "panel-layout": {
     "height": 0,
     "visible": true,
     "width": 100
    }
   },
   "outputs": [
    {
     "name": "stdout",
     "output_type": "stream",
     "text": [
      "new\n"
     ]
    }
   ],
   "source": [
    "print('new')"
   ]
  },
  {
   "cell_type": "markdown",
   "id": "48881221-75bb-403a-aaaf-20c69310e893",
   "metadata": {
    "panel-layout": {
     "height": 51.140625,
     "visible": true,
     "width": 100
    }
   },
   "source": [
    "print() - > this is markdown"
   ]
  },
  {
   "cell_type": "code",
   "execution_count": 6,
   "id": "8c2adc5c-cde6-45a1-b03a-674e4f16ec41",
   "metadata": {
    "panel-layout": {
     "height": 0,
     "visible": true,
     "width": 100
    }
   },
   "outputs": [
    {
     "name": "stdout",
     "output_type": "stream",
     "text": [
      "fuck\n"
     ]
    }
   ],
   "source": [
    "print('fuck')"
   ]
  },
  {
   "cell_type": "code",
   "execution_count": 3,
   "id": "06799981-e5dd-49d9-8b76-268bbbe98114",
   "metadata": {},
   "outputs": [],
   "source": [
    "x = \"Hello World\"\n"
   ]
  },
  {
   "cell_type": "code",
   "execution_count": 5,
   "id": "4f0a11c9-e254-4f8f-82ac-1e47eb82bf2e",
   "metadata": {},
   "outputs": [
    {
     "data": {
      "text/plain": [
       "'Hello World'"
      ]
     },
     "execution_count": 5,
     "metadata": {},
     "output_type": "execute_result"
    }
   ],
   "source": [
    "x"
   ]
  },
  {
   "cell_type": "code",
   "execution_count": 11,
   "id": "be3cb81d-e2db-4b00-8b09-de40286e4deb",
   "metadata": {},
   "outputs": [
    {
     "data": {
      "text/plain": [
       "'HELLO WORLD'"
      ]
     },
     "execution_count": 11,
     "metadata": {},
     "output_type": "execute_result"
    }
   ],
   "source": [
    "x.upper()"
   ]
  },
  {
   "cell_type": "code",
   "execution_count": 15,
   "id": "487e1f45-0b51-4c2d-872a-27a1e6446658",
   "metadata": {},
   "outputs": [
    {
     "data": {
      "text/plain": [
       "['Hell', ' W', 'rld']"
      ]
     },
     "execution_count": 15,
     "metadata": {},
     "output_type": "execute_result"
    }
   ],
   "source": [
    "x.split('o')"
   ]
  },
  {
   "cell_type": "code",
   "execution_count": 17,
   "id": "58dabc77-2af4-422c-b8c2-fe261835f25d",
   "metadata": {},
   "outputs": [
    {
     "data": {
      "text/plain": [
       "'Hello World'"
      ]
     },
     "execution_count": 17,
     "metadata": {},
     "output_type": "execute_result"
    }
   ],
   "source": [
    "x"
   ]
  },
  {
   "cell_type": "code",
   "execution_count": 23,
   "id": "dd486ae1-f563-479d-af33-fc03b402ad46",
   "metadata": {},
   "outputs": [
    {
     "data": {
      "text/plain": [
       "'hi hari'"
      ]
     },
     "execution_count": 23,
     "metadata": {},
     "output_type": "execute_result"
    }
   ],
   "source": [
    "\"hi {h}\".format(h=\"hari\")"
   ]
  },
  {
   "cell_type": "code",
   "execution_count": 31,
   "id": "4de17ecc-2aa3-4a2f-ae7f-2f462b3ae161",
   "metadata": {},
   "outputs": [
    {
     "data": {
      "text/plain": [
       "'Hello World'"
      ]
     },
     "execution_count": 31,
     "metadata": {},
     "output_type": "execute_result"
    }
   ],
   "source": [
    "x.center(3)\n"
   ]
  },
  {
   "cell_type": "code",
   "execution_count": 33,
   "id": "cfed32df-4c5a-41de-866a-95634a00a4df",
   "metadata": {},
   "outputs": [],
   "source": [
    "my_list = ['one','two','three']\n"
   ]
  },
  {
   "cell_type": "code",
   "execution_count": 35,
   "id": "369dfdee-1272-41c8-ab12-60fd2466835e",
   "metadata": {},
   "outputs": [],
   "source": [
    "my_list.append('four')"
   ]
  },
  {
   "cell_type": "code",
   "execution_count": 37,
   "id": "e33d46c3-65de-4e92-a094-e9054fbbc643",
   "metadata": {},
   "outputs": [
    {
     "data": {
      "text/plain": [
       "['one', 'two', 'three', 'four']"
      ]
     },
     "execution_count": 37,
     "metadata": {},
     "output_type": "execute_result"
    }
   ],
   "source": [
    "my_list\n"
   ]
  },
  {
   "cell_type": "code",
   "execution_count": 7,
   "id": "3eecd5af-9ffb-4e84-9b1e-6b8115a5730a",
   "metadata": {},
   "outputs": [
    {
     "data": {
      "text/plain": [
       "'i am Mother fucker hell yaaayaa'"
      ]
     },
     "execution_count": 7,
     "metadata": {},
     "output_type": "execute_result"
    }
   ],
   "source": [
    "def first_call(word = \"grany\"):\n",
    "    return f'i am {word} fucker hell yaaayaa'\n",
    "\n",
    "first_call('Mother')\n"
   ]
  },
  {
   "cell_type": "code",
   "execution_count": 9,
   "id": "3eac7fe2-895e-4b5f-96d4-8c2d8a1e368f",
   "metadata": {},
   "outputs": [
    {
     "data": {
      "text/plain": [
       "'i am grany fucker hell yaaayaa'"
      ]
     },
     "execution_count": 9,
     "metadata": {},
     "output_type": "execute_result"
    }
   ],
   "source": [
    "first_call()"
   ]
  },
  {
   "cell_type": "code",
   "execution_count": 21,
   "id": "a15ae939-1425-45de-8be8-de5f8b861f79",
   "metadata": {},
   "outputs": [],
   "source": [
    "def check_even_list(num_list):\n",
    "    even_list = [];\n",
    "    for num in num_list:\n",
    "        if num % 2 == 0:\n",
    "            even_list.append(num)\n",
    "        else:\n",
    "            pass\n",
    "    return even_list"
   ]
  },
  {
   "cell_type": "code",
   "execution_count": 25,
   "id": "1a7de295-d448-458f-b64b-138d1a68da02",
   "metadata": {},
   "outputs": [
    {
     "data": {
      "text/plain": [
       "[2, 6, 8]"
      ]
     },
     "execution_count": 25,
     "metadata": {},
     "output_type": "execute_result"
    }
   ],
   "source": [
    "check_even_list([1,2,5,6,7,8])"
   ]
  },
  {
   "cell_type": "code",
   "execution_count": 1,
   "id": "8c25b399-fd45-46ad-9e70-5405b4a02dd3",
   "metadata": {},
   "outputs": [
    {
     "name": "stdout",
     "output_type": "stream",
     "text": [
      "[('apple', 100), ('oranges', 90)]\n"
     ]
    }
   ],
   "source": [
    "def tupil_unpacking(t):\n",
    "    print(t)\n",
    "\n",
    "tupil_unpacking([('apple', 100), ('oranges', 90)])"
   ]
  },
  {
   "cell_type": "code",
   "execution_count": 17,
   "id": "6d57af2c-8204-435b-bbea-f44d7aea3950",
   "metadata": {},
   "outputs": [],
   "source": [
    "work_hours = [('hari', 100), ('saras', 400), ('su', 502), ('ad', 500), ('god', 501)]"
   ]
  },
  {
   "cell_type": "code",
   "execution_count": 21,
   "id": "15124211-c372-44d7-9e82-e4b8a3c741dd",
   "metadata": {},
   "outputs": [],
   "source": [
    "def employee_of_month(work_hours):\n",
    "    current_hours = 0\n",
    "    employee_name = ''\n",
    "    for name, hours in work_hours:\n",
    "        if current_hours < hours:\n",
    "            current_hours = hours\n",
    "            employee_name = name\n",
    "    return (employee_name, current_hours)\n",
    "\n",
    "name, hours = employee_of_month(work_hours)"
   ]
  },
  {
   "cell_type": "code",
   "execution_count": 23,
   "id": "258a216e-4406-452f-a44d-d96a37803958",
   "metadata": {},
   "outputs": [
    {
     "data": {
      "text/plain": [
       "'su'"
      ]
     },
     "execution_count": 23,
     "metadata": {},
     "output_type": "execute_result"
    }
   ],
   "source": [
    "name"
   ]
  },
  {
   "cell_type": "code",
   "execution_count": 25,
   "id": "b22fd10c-b302-4988-afca-d15f11517c29",
   "metadata": {},
   "outputs": [
    {
     "data": {
      "text/plain": [
       "502"
      ]
     },
     "execution_count": 25,
     "metadata": {},
     "output_type": "execute_result"
    }
   ],
   "source": [
    "hours"
   ]
  },
  {
   "cell_type": "code",
   "execution_count": 35,
   "id": "4a4ff942-4e8a-4997-b830-3801f67f6f3b",
   "metadata": {},
   "outputs": [],
   "source": [
    "from random import shuffle\n",
    "def shuffel_list(list):\n",
    "    shuffle(list)\n",
    "    return list"
   ]
  },
  {
   "cell_type": "code",
   "execution_count": 37,
   "id": "f8496001-da00-457a-a506-7fdae93eaa7b",
   "metadata": {},
   "outputs": [
    {
     "data": {
      "text/plain": [
       "[3, 1, 2, 6, 5, 4]"
      ]
     },
     "execution_count": 37,
     "metadata": {},
     "output_type": "execute_result"
    }
   ],
   "source": [
    "shuffel_list([1,2,3,4,5,6])"
   ]
  },
  {
   "cell_type": "code",
   "execution_count": 39,
   "id": "856d4ccd-ab98-41dd-9d92-af4d750fdbfc",
   "metadata": {},
   "outputs": [],
   "source": [
    "my_list = ['', '0', '']"
   ]
  },
  {
   "cell_type": "code",
   "execution_count": 41,
   "id": "152c6a6f-319e-40c9-b65a-567b624c9667",
   "metadata": {},
   "outputs": [],
   "source": [
    "def player_guess():\n",
    "    guess = ''\n",
    "    while guess not in ['0', '1', '2']:\n",
    "        guess = input('Pick a number 0, 1 or 2')\n",
    "    return int(guess)"
   ]
  },
  {
   "cell_type": "code",
   "execution_count": 43,
   "id": "01bfd6c1-3075-426d-8a49-10009c7c5a91",
   "metadata": {},
   "outputs": [
    {
     "name": "stdin",
     "output_type": "stream",
     "text": [
      "Pick a number 0, 1 or 2 4\n",
      "Pick a number 0, 1 or 2 5\n",
      "Pick a number 0, 1 or 2 1\n"
     ]
    },
    {
     "data": {
      "text/plain": [
       "1"
      ]
     },
     "execution_count": 43,
     "metadata": {},
     "output_type": "execute_result"
    }
   ],
   "source": [
    "player_guess()"
   ]
  },
  {
   "cell_type": "code",
   "execution_count": 76,
   "id": "555973d6-ed85-4364-a00d-37eb57465115",
   "metadata": {},
   "outputs": [],
   "source": [
    "def check_guess(my_list, guess):\n",
    "   if my_list[guess] == '0':\n",
    "       print('Correct!')\n",
    "   else:\n",
    "       print('Not Correct')\n",
    "       print(my_list)\n",
    "    "
   ]
  },
  {
   "cell_type": "code",
   "execution_count": null,
   "id": "871de235-5723-4fae-9836-5e3bb57afbd5",
   "metadata": {},
   "outputs": [],
   "source": []
  },
  {
   "cell_type": "code",
   "execution_count": 92,
   "id": "ee96f8ca-e6cb-4094-84c1-4dfa5ebaf3a7",
   "metadata": {},
   "outputs": [
    {
     "name": "stdin",
     "output_type": "stream",
     "text": [
      "Pick a number 0, 1 or 2 1\n"
     ]
    },
    {
     "name": "stdout",
     "output_type": "stream",
     "text": [
      "Correct!\n"
     ]
    }
   ],
   "source": [
    "#list\n",
    "my_list = ['', '0', '']\n",
    "#shuffle\n",
    "shuffled_list = shuffel_list(my_list)\n",
    "#player guess\n",
    "guess = player_guess()\n",
    "#check\n",
    "check_guess(shuffled_list, guess)"
   ]
  },
  {
   "cell_type": "code",
   "execution_count": 94,
   "id": "c62abdb3-385b-44c6-b6df-3d53bd4850ad",
   "metadata": {},
   "outputs": [
    {
     "data": {
      "text/plain": [
       "['', '0', '']"
      ]
     },
     "execution_count": 94,
     "metadata": {},
     "output_type": "execute_result"
    }
   ],
   "source": [
    "my_list\n"
   ]
  },
  {
   "cell_type": "code",
   "execution_count": 96,
   "id": "657af811-cb7a-443b-8a45-0e6a47ece8f4",
   "metadata": {},
   "outputs": [],
   "source": [
    "my_list=[1,2,4]"
   ]
  },
  {
   "cell_type": "code",
   "execution_count": 98,
   "id": "e96383c3-40e0-4798-97c0-49eab448e8f0",
   "metadata": {},
   "outputs": [
    {
     "data": {
      "text/plain": [
       "7"
      ]
     },
     "execution_count": 98,
     "metadata": {},
     "output_type": "execute_result"
    }
   ],
   "source": [
    "sum(my_list)"
   ]
  },
  {
   "cell_type": "code",
   "execution_count": 153,
   "id": "c1523fe2-c3b8-4840-a015-d850656b1b35",
   "metadata": {},
   "outputs": [],
   "source": [
    "def myfunc(item):\n",
    "    morphed=''\n",
    "    for char in item:\n",
    "        if len(morphed)%2 == 0:\n",
    "          print(morphed+char.capitalize())\n"
   ]
  },
  {
   "cell_type": "code",
   "execution_count": 155,
   "id": "c296c031-1e7f-47c9-aa58-1c7818113705",
   "metadata": {},
   "outputs": [
    {
     "name": "stdout",
     "output_type": "stream",
     "text": [
      "H\n",
      "A\n",
      "R\n",
      "I\n",
      "H\n",
      "A\n",
      "R\n",
      "A\n",
      "N\n"
     ]
    }
   ],
   "source": [
    "myfunc('hariharan')"
   ]
  },
  {
   "cell_type": "code",
   "execution_count": null,
   "id": "7d23d215-7e6c-4d00-a8a5-06a0cfab0741",
   "metadata": {},
   "outputs": [],
   "source": []
  },
  {
   "cell_type": "code",
   "execution_count": 123,
   "id": "8fe7509b-ba92-4914-bbc4-98c5127c1a6c",
   "metadata": {},
   "outputs": [
    {
     "data": {
      "text/plain": [
       "4"
      ]
     },
     "execution_count": 123,
     "metadata": {},
     "output_type": "execute_result"
    }
   ],
   "source": [
    "len('hari')"
   ]
  },
  {
   "cell_type": "code",
   "execution_count": 125,
   "id": "edc411eb-4663-4c66-8fec-9c031c430872",
   "metadata": {},
   "outputs": [],
   "source": [
    "myfunc('hariharan')"
   ]
  },
  {
   "cell_type": "code",
   "execution_count": 157,
   "id": "3bea9f78-96d7-48f0-a607-039825a9e4b4",
   "metadata": {},
   "outputs": [
    {
     "data": {
      "text/plain": [
       "'harihi'"
      ]
     },
     "execution_count": 157,
     "metadata": {},
     "output_type": "execute_result"
    }
   ],
   "source": [
    "'hari' + 'hi'"
   ]
  },
  {
   "cell_type": "code",
   "execution_count": null,
   "id": "ecfb12d7-03dc-44f7-b3fb-0320fde64c73",
   "metadata": {},
   "outputs": [],
   "source": []
  }
 ],
 "metadata": {
  "kernelspec": {
   "display_name": "Python [conda env:base] *",
   "language": "python",
   "name": "conda-base-py"
  },
  "language_info": {
   "codemirror_mode": {
    "name": "ipython",
    "version": 3
   },
   "file_extension": ".py",
   "mimetype": "text/x-python",
   "name": "python",
   "nbconvert_exporter": "python",
   "pygments_lexer": "ipython3",
   "version": "3.12.7"
  },
  "panel-cell-order": [
   "48f54de1-91b7-43f5-a8bd-e10c6d56d800",
   "87fc2184-b225-4c65-9301-a771ed0f5502",
   "48881221-75bb-403a-aaaf-20c69310e893",
   "8c2adc5c-cde6-45a1-b03a-674e4f16ec41"
  ]
 },
 "nbformat": 4,
 "nbformat_minor": 5
}
